{
 "cells": [
  {
   "cell_type": "code",
   "execution_count": null,
   "metadata": {},
   "outputs": [],
   "source": [
    "# !pip install pulp"
   ]
  },
  {
   "cell_type": "code",
   "execution_count": null,
   "metadata": {},
   "outputs": [],
   "source": [
    "import pandas as pd\n",
    "import pulp"
   ]
  },
  {
   "cell_type": "code",
   "execution_count": null,
   "metadata": {},
   "outputs": [],
   "source": [
    "factories = pd.read_csv('factory_variables.csv', index_col=['Month','Factory'], names=['Month', 'Factory', 'Max_Capacity', 'Min_Capacity', 'Variable_Costs', 'Fixed_Costs'])\n",
    "factories"
   ]
  },
  {
   "cell_type": "code",
   "execution_count": null,
   "metadata": {},
   "outputs": [],
   "source": [
    "demand = pd.read_csv('monthly_demand.csv', index_col=['Month'], names=['Month', 'Demand'])\n",
    "demand"
   ]
  },
  {
   "cell_type": "code",
   "execution_count": null,
   "metadata": {},
   "outputs": [],
   "source": [
    "production = pulp.LpVariable.dicts(\"production\",\n",
    "                                   ((month, factory) for month, factory in factories.index),\n",
    "                                   lowBound=0,\n",
    "                                   cat='Integer')"
   ]
  },
  {
   "cell_type": "code",
   "execution_count": null,
   "metadata": {},
   "outputs": [],
   "source": [
    "factory_status = pulp.LpVariable.dicts(\"factory_status\",\n",
    "                                     ((month, factory) for month, factory in factories.index),\n",
    "                                     cat='Binary')"
   ]
  },
  {
   "cell_type": "code",
   "execution_count": null,
   "metadata": {},
   "outputs": [],
   "source": [
    "model = pulp.LpProblem(\"Cost_minimising_scheduling_problem\", pulp.LpMinimize)"
   ]
  },
  {
   "cell_type": "code",
   "execution_count": null,
   "metadata": {},
   "outputs": [],
   "source": [
    "model += pulp.lpSum(\n",
    "    [production[month, factory] * factories.loc[(month, factory), 'Variable_Costs'] for month, factory in factories.index]\n",
    "    + [factory_status[month, factory] * factories.loc[(month, factory), 'Fixed_Costs'] for month, factory in factories.index]\n",
    ")"
   ]
  },
  {
   "cell_type": "code",
   "execution_count": null,
   "metadata": {},
   "outputs": [],
   "source": [
    "# Production in any month must be equal to demand\n",
    "months = demand.index\n",
    "for month in months:\n",
    "    model += production[(month, 'A')] + production[(month, 'B')] == demand.loc[month, 'Demand']"
   ]
  },
  {
   "cell_type": "code",
   "execution_count": null,
   "metadata": {},
   "outputs": [],
   "source": [
    "# Production in any month must be between minimum and maximum capacity, or zero.\n",
    "for month, factory in factories.index:\n",
    "    min_production = factories.loc[(month, factory), 'Min_Capacity']\n",
    "    max_production = factories.loc[(month, factory), 'Max_Capacity']\n",
    "    model += production[(month, factory)] >= min_production * factory_status[month, factory]\n",
    "    model += production[(month, factory)] <= max_production * factory_status[month, factory]"
   ]
  },
  {
   "cell_type": "code",
   "execution_count": null,
   "metadata": {},
   "outputs": [],
   "source": [
    "# Factory B is off in May\n",
    "model += factory_status[5, 'B'] == 0\n",
    "model += production[5, 'B'] == 0"
   ]
  },
  {
   "cell_type": "code",
   "execution_count": null,
   "metadata": {},
   "outputs": [],
   "source": [
    "model.solve()\n",
    "pulp.LpStatus[model.status]"
   ]
  },
  {
   "cell_type": "code",
   "execution_count": null,
   "metadata": {},
   "outputs": [],
   "source": [
    "output = []\n",
    "for month, factory in production:\n",
    "    var_output = {\n",
    "        'Month': month,\n",
    "        'Factory': factory,\n",
    "        'Production': production[(month, factory)].varValue,\n",
    "        'Factory Status': factory_status[(month, factory)].varValue\n",
    "    }\n",
    "    output.append(var_output)\n",
    "output_df = pd.DataFrame.from_records(output).sort_values(['Month', 'Factory'])\n",
    "output_df.set_index(['Month', 'Factory'], inplace=True)\n",
    "output_df"
   ]
  },
  {
   "cell_type": "code",
   "execution_count": null,
   "metadata": {},
   "outputs": [],
   "source": [
    "# Print our objective function value (Total Costs)\n",
    "print(pulp.value(model.objective))"
   ]
  },
  {
   "cell_type": "code",
   "execution_count": null,
   "metadata": {},
   "outputs": [],
   "source": []
  }
 ],
 "metadata": {
  "kernelspec": {
   "display_name": "Python 3",
   "language": "python",
   "name": "python3"
  },
  "language_info": {
   "codemirror_mode": {
    "name": "ipython",
    "version": 3
   },
   "file_extension": ".py",
   "mimetype": "text/x-python",
   "name": "python",
   "nbconvert_exporter": "python",
   "pygments_lexer": "ipython3",
   "version": "3.7.4"
  }
 },
 "nbformat": 4,
 "nbformat_minor": 2
}
