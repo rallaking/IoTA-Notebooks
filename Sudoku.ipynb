{
 "cells": [
  {
   "cell_type": "markdown",
   "metadata": {},
   "source": [
    "<h2>The Sudoku Problem Formulation for the PuLP Modeller</h2>\n",
    "\n",
    "https://github.com/coin-or/pulp/blob/master/examples/Sudoku1.py\n",
    "\n",
    "Authors: Antony Phillips, Dr Stuart Mitchell\n",
    "\n",
    "Adapted: Allison Morgan (12/27/2017)"
   ]
  },
  {
   "cell_type": "code",
   "execution_count": null,
   "metadata": {},
   "outputs": [],
   "source": [
    "#!pip3 install pulp"
   ]
  },
  {
   "cell_type": "code",
   "execution_count": null,
   "metadata": {},
   "outputs": [],
   "source": [
    "# Import PuLP modeler functions\n",
    "from pulp import *"
   ]
  },
  {
   "cell_type": "code",
   "execution_count": null,
   "metadata": {},
   "outputs": [],
   "source": [
    "# A list of strings from \"1\" to \"9\" is created\n",
    "Sequence = [\"1\", \"2\", \"3\", \"4\", \"5\", \"6\", \"7\", \"8\", \"9\"]"
   ]
  },
  {
   "cell_type": "code",
   "execution_count": null,
   "metadata": {},
   "outputs": [],
   "source": [
    "# The Vals, Rows and Cols sequences all follow this form\n",
    "Vals = Sequence\n",
    "Rows = Sequence\n",
    "Cols = Sequence"
   ]
  },
  {
   "cell_type": "code",
   "execution_count": null,
   "metadata": {},
   "outputs": [],
   "source": [
    "# The boxes list is created, with the row and column index of each square in each box\n",
    "Boxes =[]\n",
    "for i in range(3):\n",
    "    for j in range(3):\n",
    "        Boxes += [[(Rows[3*i+k],Cols[3*j+l]) for k in range(3) for l in range(3)]]"
   ]
  },
  {
   "cell_type": "code",
   "execution_count": null,
   "metadata": {},
   "outputs": [],
   "source": [
    "# The prob variable is created to contain the problem data        \n",
    "prob = LpProblem(\"Sudoku_Problem\",LpMinimize)"
   ]
  },
  {
   "cell_type": "code",
   "execution_count": null,
   "metadata": {},
   "outputs": [],
   "source": [
    "# The problem variables are created\n",
    "choices = LpVariable.dicts(\"Choice\",(Vals,Rows,Cols),0,1,LpInteger)"
   ]
  },
  {
   "cell_type": "code",
   "execution_count": null,
   "metadata": {},
   "outputs": [],
   "source": [
    "# The arbitrary objective function is added\n",
    "prob += 0, \"Arbitrary Objective Function\""
   ]
  },
  {
   "cell_type": "code",
   "execution_count": null,
   "metadata": {},
   "outputs": [],
   "source": [
    "# A constraint ensuring that only one value can be in each square is created\n",
    "for r in Rows:\n",
    "    for c in Cols:\n",
    "        prob += lpSum([choices[v][r][c] for v in Vals]) == 1, \"\""
   ]
  },
  {
   "cell_type": "code",
   "execution_count": null,
   "metadata": {},
   "outputs": [],
   "source": [
    "# The row, column and box constraints are added for each value\n",
    "for v in Vals:\n",
    "    for r in Rows:\n",
    "        prob += lpSum([choices[v][r][c] for c in Cols]) == 1,\"\"\n",
    "        \n",
    "    for c in Cols:\n",
    "        prob += lpSum([choices[v][r][c] for r in Rows]) == 1,\"\"\n",
    "\n",
    "    for b in Boxes:\n",
    "        prob += lpSum([choices[v][r][c] for (r,c) in b]) == 1,\"\""
   ]
  },
  {
   "cell_type": "code",
   "execution_count": null,
   "metadata": {},
   "outputs": [],
   "source": [
    "# The starting numbers are entered as constraints. Note: choices is indexed by value, row, column.                \n",
    "prob += choices[\"1\"][\"1\"][\"1\"] == 1,\"\"\n",
    "prob += choices[\"5\"][\"3\"][\"1\"] == 1,\"\"\n",
    "prob += choices[\"2\"][\"6\"][\"1\"] == 1,\"\"\n",
    "prob += choices[\"7\"][\"9\"][\"1\"] == 1,\"\"\n",
    "prob += choices[\"9\"][\"3\"][\"2\"] == 1,\"\"\n",
    "prob += choices[\"9\"][\"4\"][\"3\"] == 1,\"\"\n",
    "prob += choices[\"6\"][\"6\"][\"3\"] == 1,\"\"\n",
    "prob += choices[\"1\"][\"8\"][\"3\"] == 1,\"\"\n",
    "prob += choices[\"2\"][\"9\"][\"3\"] == 1,\"\"\n",
    "prob += choices[\"5\"][\"1\"][\"4\"] == 1,\"\"\n",
    "prob += choices[\"7\"][\"3\"][\"4\"] == 1,\"\"\n",
    "prob += choices[\"6\"][\"5\"][\"4\"] == 1,\"\"\n",
    "prob += choices[\"8\"][\"7\"][\"4\"] == 1,\"\"\n",
    "prob += choices[\"3\"][\"4\"][\"5\"] == 1,\"\"\n",
    "prob += choices[\"8\"][\"6\"][\"5\"] == 1,\"\"\n",
    "prob += choices[\"4\"][\"3\"][\"6\"] == 1,\"\"\n",
    "prob += choices[\"1\"][\"5\"][\"6\"] == 1,\"\"\n",
    "prob += choices[\"2\"][\"7\"][\"6\"] == 1,\"\"\n",
    "prob += choices[\"6\"][\"9\"][\"6\"] == 1,\"\"\n",
    "prob += choices[\"9\"][\"1\"][\"7\"] == 1,\"\"\n",
    "prob += choices[\"5\"][\"2\"][\"7\"] == 1,\"\"\n",
    "prob += choices[\"6\"][\"4\"][\"7\"] == 1,\"\"\n",
    "prob += choices[\"7\"][\"6\"][\"7\"] == 1,\"\"\n",
    "prob += choices[\"4\"][\"7\"][\"8\"] == 1,\"\"\n",
    "prob += choices[\"2\"][\"1\"][\"9\"] == 1,\"\"\n",
    "prob += choices[\"1\"][\"4\"][\"9\"] == 1,\"\"\n",
    "prob += choices[\"7\"][\"7\"][\"9\"] == 1,\"\"\n",
    "prob += choices[\"8\"][\"9\"][\"9\"] == 1,\"\""
   ]
  },
  {
   "cell_type": "code",
   "execution_count": null,
   "metadata": {},
   "outputs": [],
   "source": [
    "# The problem data is written to an .lp file\n",
    "prob.writeLP(\"Sudoku.lp\")"
   ]
  },
  {
   "cell_type": "code",
   "execution_count": null,
   "metadata": {},
   "outputs": [],
   "source": [
    "# The problem is solved using PuLP's choice of Solver\n",
    "prob.solve()"
   ]
  },
  {
   "cell_type": "code",
   "execution_count": null,
   "metadata": {},
   "outputs": [],
   "source": [
    "# The status of the solution is printed to the screen\n",
    "print(\"Status:\", LpStatus[prob.status])"
   ]
  },
  {
   "cell_type": "code",
   "execution_count": null,
   "metadata": {},
   "outputs": [],
   "source": [
    "# A file called sudokuout.txt is created/overwritten for writing to\n",
    "sudokuout = open('sudokuout.txt','w')"
   ]
  },
  {
   "cell_type": "code",
   "execution_count": null,
   "metadata": {},
   "outputs": [],
   "source": [
    "# The solution is written to the sudokuout.txt file \n",
    "for r in Rows:\n",
    "    if r == \"1\" or r == \"4\" or r == \"7\":\n",
    "                    sudokuout.write(\"+-------+-------+-------+\\n\")\n",
    "    for c in Cols:\n",
    "        for v in Vals:\n",
    "            if value(choices[v][r][c])==1:\n",
    "                               \n",
    "                if c == \"1\" or c == \"4\" or c ==\"7\":\n",
    "                    sudokuout.write(\"| \")\n",
    "                    \n",
    "                sudokuout.write(v + \" \")\n",
    "                \n",
    "                if c == \"9\":\n",
    "                    sudokuout.write(\"|\\n\")\n",
    "sudokuout.write(\"+-------+-------+-------+\")                    \n",
    "sudokuout.close()"
   ]
  },
  {
   "cell_type": "code",
   "execution_count": null,
   "metadata": {},
   "outputs": [],
   "source": [
    "# The location of the solution is give to the user\n",
    "print(\"Solution Written to sudokuout.txt\")"
   ]
  },
  {
   "cell_type": "code",
   "execution_count": null,
   "metadata": {},
   "outputs": [],
   "source": []
  }
 ],
 "metadata": {
  "kernelspec": {
   "display_name": "Python 3",
   "language": "python",
   "name": "python3"
  },
  "language_info": {
   "codemirror_mode": {
    "name": "ipython",
    "version": 3
   },
   "file_extension": ".py",
   "mimetype": "text/x-python",
   "name": "python",
   "nbconvert_exporter": "python",
   "pygments_lexer": "ipython3",
   "version": "3.7.4"
  }
 },
 "nbformat": 4,
 "nbformat_minor": 2
}
